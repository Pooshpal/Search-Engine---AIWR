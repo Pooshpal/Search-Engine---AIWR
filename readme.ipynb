{
 "cells": [
  {
   "attachments": {},
   "cell_type": "markdown",
   "metadata": {},
   "source": [
    "Implement a search engine by choosing a relevant corpus. The search engine should include implementation of inverted index. The implementation should include \n",
    "1   Boolean Model \n",
    "2   retrieval based on similarity \n",
    "The text content should be preprocessed before the creation of inverted index. Implementation should support phrase queries (combination of Biword index and positional indexing).\n",
    "The retrieved documents should appear in a ranked manner.\n",
    "Precision and Recall should be computed.\n",
    "In addition to implementation, each group should submit a detailed Analysis report that should include\n",
    "1   Justify preproccing techniques used\n",
    "2   justification for choosing an appropriate data structure \n",
    "3   justification for choosing a typical similarity scoring scheme"
   ]
  },
  {
   "cell_type": "markdown",
   "metadata": {},
   "source": []
  }
 ],
 "metadata": {
  "language_info": {
   "name": "python"
  },
  "orig_nbformat": 4
 },
 "nbformat": 4,
 "nbformat_minor": 2
}
