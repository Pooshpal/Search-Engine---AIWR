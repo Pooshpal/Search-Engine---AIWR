{
 "cells": [
  {
   "attachments": {},
   "cell_type": "markdown",
   "metadata": {},
   "source": [
    "<h1>Implement a search engine by choosing a relevant corpus. </h1>\n",
    "\n",
    "<br>The search engine should include implementation of inverted index. The implementation should include :\n",
    "-   Boolean Model \n",
    "-   retrieval based on similarity \n",
    "\n",
    "<br>The text content should be preprocessed before the creation of inverted index. Implementation should support phrase queries (combination of Biword index and positional indexing).The retrieved documents should appear in a ranked manner.Precision and Recall should be computed.In addition to implementation, each group should submit a detailed Analysis report that should include:\n",
    "-   Justify preproccing techniques used\n",
    "-   justification for choosing an appropriate data structure \n",
    "-   justification for choosing a typical similarity scoring scheme"
   ]
  },
  {
   "cell_type": "markdown",
   "metadata": {},
   "source": []
  }
 ],
 "metadata": {
  "language_info": {
   "name": "python"
  },
  "orig_nbformat": 4
 },
 "nbformat": 4,
 "nbformat_minor": 2
}
